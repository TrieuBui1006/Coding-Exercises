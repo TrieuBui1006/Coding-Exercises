{
 "cells": [
  {
   "cell_type": "code",
   "execution_count": 24,
   "metadata": {},
   "outputs": [
    {
     "name": "stdout",
     "output_type": "stream",
     "text": [
      "3\n",
      "green 8\n",
      "10 blue\n",
      "red 20\n",
      "blue\n",
      "green\n",
      "red\n"
     ]
    }
   ],
   "source": [
    "# https://open.kattis.com/problems/cups?fbclid=IwAR0nQgFHCVMMPL-c6tYhZOinToI9d9_QsfMvycT5S2Nh314x9wO6xcg7OLQ\n",
    "\n",
    "stacking_cup = []\n",
    "\n",
    "N = int(input())\n",
    "for x in range(N):\n",
    "    cup = input()\n",
    "    cup = cup.split()\n",
    "    if cup[0].isnumeric():\n",
    "        cup_add = [int(cup[0]), cup[1]]\n",
    "    else:\n",
    "        cup_add = [int(cup[1])*2, cup[0]]\n",
    "    stacking_cup.append(cup_add)\n",
    "        \n",
    "stacking_cup = sorted(stacking_cup)\n",
    "\n",
    "for cup in stacking_cup:\n",
    "    print(cup[1])"
   ]
  }
 ],
 "metadata": {
  "kernelspec": {
   "display_name": "Python 3",
   "language": "python",
   "name": "python3"
  },
  "language_info": {
   "codemirror_mode": {
    "name": "ipython",
    "version": 3
   },
   "file_extension": ".py",
   "mimetype": "text/x-python",
   "name": "python",
   "nbconvert_exporter": "python",
   "pygments_lexer": "ipython3",
   "version": "3.7.1"
  }
 },
 "nbformat": 4,
 "nbformat_minor": 2
}
