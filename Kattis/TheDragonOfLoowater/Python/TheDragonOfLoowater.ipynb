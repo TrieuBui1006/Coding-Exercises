{
 "cells": [
  {
   "cell_type": "code",
   "execution_count": 13,
   "metadata": {},
   "outputs": [
    {
     "name": "stdout",
     "output_type": "stream",
     "text": [
      "2 3\n",
      "5\n",
      "4\n",
      "7\n",
      "8\n",
      "4\n",
      "0 0\n",
      "11\n",
      "\n"
     ]
    }
   ],
   "source": [
    "# https://open.kattis.com/problems/loowater\n",
    "\n",
    "l = [1, 1]\n",
    "result  = \"\"\n",
    "\n",
    "def minimumCoin(heads, knights):\n",
    "    money = 0\n",
    "    heads.sort()\n",
    "    knights.sort()\n",
    "    while True:\n",
    "        try:\n",
    "            if heads[0] <= knights[0]:\n",
    "                money += knights[0]\n",
    "                heads.pop(0)\n",
    "                knights.pop(0)\n",
    "            else:\n",
    "                knights.pop(0)\n",
    "        except:\n",
    "            break\n",
    "    try:\n",
    "        if heads[0] != -1:\n",
    "            return \"Loowater is doomed!\"\n",
    "    except:\n",
    "        return money\n",
    "\n",
    "while True:\n",
    "    l = input().split()\n",
    "    l = [int(l[0]), int(l[1])]\n",
    "    if (l[0] != 0) or (l[1] != 0):    \n",
    "        heads = []\n",
    "        knights = []\n",
    "        for x in range(l[0]):\n",
    "            heads.append(int(input()))\n",
    "        for x in range(l[1]):\n",
    "            knights.append(int(input()))\n",
    "\n",
    "        result += str(minimumCoin(heads,knights)) + \"\\n\"\n",
    "    else:\n",
    "        break\n",
    "\n",
    "print(result)"
   ]
  }
 ],
 "metadata": {
  "kernelspec": {
   "display_name": "Python 3",
   "language": "python",
   "name": "python3"
  },
  "language_info": {
   "codemirror_mode": {
    "name": "ipython",
    "version": 3
   },
   "file_extension": ".py",
   "mimetype": "text/x-python",
   "name": "python",
   "nbconvert_exporter": "python",
   "pygments_lexer": "ipython3",
   "version": "3.7.1"
  }
 },
 "nbformat": 4,
 "nbformat_minor": 2
}
