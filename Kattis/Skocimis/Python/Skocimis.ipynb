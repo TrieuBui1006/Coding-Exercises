{
 "cells": [
  {
   "cell_type": "code",
   "execution_count": null,
   "metadata": {},
   "outputs": [],
   "source": [
    "# https://open.kattis.com/problems/skocimis\n",
    "\n",
    "l = [int(x) for x in input().split()]\n",
    "\n",
    "if l[1]-l[0] > l[2]-l[1]:\n",
    "    result = l[1]-l[0]-1\n",
    "else:\n",
    "    result = l[2]-l[1]-1\n",
    "    \n",
    "print(result)"
   ]
  }
 ],
 "metadata": {
  "kernelspec": {
   "display_name": "Python 3",
   "language": "python",
   "name": "python3"
  },
  "language_info": {
   "codemirror_mode": {
    "name": "ipython",
    "version": 3
   },
   "file_extension": ".py",
   "mimetype": "text/x-python",
   "name": "python",
   "nbconvert_exporter": "python",
   "pygments_lexer": "ipython3",
   "version": "3.7.1"
  }
 },
 "nbformat": 4,
 "nbformat_minor": 2
}
