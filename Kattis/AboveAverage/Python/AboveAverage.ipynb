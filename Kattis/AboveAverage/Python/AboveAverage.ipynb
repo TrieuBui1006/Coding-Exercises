{
 "cells": [
  {
   "cell_type": "code",
   "execution_count": 8,
   "metadata": {},
   "outputs": [
    {
     "name": "stdout",
     "output_type": "stream",
     "text": [
      "1\n",
      "5 50 50 70 80 100\n",
      "40.000%\n"
     ]
    }
   ],
   "source": [
    "# https://open.kattis.com/problems/aboveaverage\n",
    "\n",
    "test_case = int(input())\n",
    "\n",
    "result = \"\"\n",
    "for _ in range(test_case):\n",
    "    count = 0\n",
    "    above = 0\n",
    "    l = [int(x) for x in input().split()]\n",
    "    average = (sum(l) - l[0]) / l[0]\n",
    "    for j in range(1,l[0]+1):\n",
    "        if l[j] > average:\n",
    "            count += 1\n",
    "    above = count/l[0]*100\n",
    "    \n",
    "    print(\"{:.3f}%\".format(above))"
   ]
  },
  {
   "cell_type": "code",
   "execution_count": 11,
   "metadata": {},
   "outputs": [
    {
     "name": "stdout",
     "output_type": "stream",
     "text": [
      "1\n",
      "5 50 50 70 80 100\n",
      "40.000%\n"
     ]
    }
   ],
   "source": [
    "test_case = int(input())\n",
    "\n",
    "for _ in range(test_case):\n",
    "    n, *l = map(int, input().split())\n",
    "    avg = sum(l)/n\n",
    "    count = len([score for score in l if score > avg])\n",
    "    \n",
    "    print(\"{:.3f}%\".format(count/n*100))"
   ]
  },
  {
   "cell_type": "code",
   "execution_count": null,
   "metadata": {},
   "outputs": [],
   "source": []
  }
 ],
 "metadata": {
  "kernelspec": {
   "display_name": "Python 3",
   "language": "python",
   "name": "python3"
  },
  "language_info": {
   "codemirror_mode": {
    "name": "ipython",
    "version": 3
   },
   "file_extension": ".py",
   "mimetype": "text/x-python",
   "name": "python",
   "nbconvert_exporter": "python",
   "pygments_lexer": "ipython3",
   "version": "3.7.1"
  }
 },
 "nbformat": 4,
 "nbformat_minor": 2
}
