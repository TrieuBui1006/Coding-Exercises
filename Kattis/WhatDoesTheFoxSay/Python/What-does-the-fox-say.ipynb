{
 "cells": [
  {
   "cell_type": "code",
   "execution_count": 28,
   "metadata": {
    "scrolled": true
   },
   "outputs": [],
   "source": [
    "# https://open.kattis.com/problems/whatdoesthefoxsay\n",
    "\n",
    "# input\n",
    "1\n",
    "toot woof wa ow ow ow pa blub blub pa toot pa blub pa pa ow pow toot\n",
    "dog goes woof\n",
    "fish goes blub\n",
    "elephant goes toot\n",
    "seal goes ow\n",
    "what does the fox say?\n",
    "\n",
    "# output\n",
    "\n"
   ]
  },
  {
   "cell_type": "code",
   "execution_count": 29,
   "metadata": {},
   "outputs": [
    {
     "name": "stdout",
     "output_type": "stream",
     "text": [
      "1\n",
      "toot woof wa ow ow ow pa blub blub pa toot pa blub pa pa ow pow toot\n",
      "dog goes woof\n",
      "fish goes blub\n",
      "elephant goes toot\n",
      "seal goes ow\n",
      "what does the fox say?\n",
      "wa pa pa pa pa pa pow\n"
     ]
    }
   ],
   "source": [
    "test_case = int(input())\n",
    "\n",
    "for _ in range(test_case):\n",
    "  \n",
    "    recording = input().split()\n",
    "    list_sound = []\n",
    "    while True:\n",
    "        animal_sound = input()\n",
    "        if animal_sound != \"what does the fox say?\":\n",
    "            animal_sound = animal_sound.split()\n",
    "            list_sound.append(animal_sound[2])\n",
    "        else:\n",
    "            break\n",
    "    i = len(recording) - 1\n",
    "    while i >= 0:\n",
    "        if recording[i] in list_sound:\n",
    "            recording.pop(i)\n",
    "        i -= 1\n",
    "            \n",
    "    print(\" \".join(recording))\n"
   ]
  },
  {
   "cell_type": "code",
   "execution_count": null,
   "metadata": {},
   "outputs": [],
   "source": []
  }
 ],
 "metadata": {
  "kernelspec": {
   "display_name": "Python 3",
   "language": "python",
   "name": "python3"
  },
  "language_info": {
   "codemirror_mode": {
    "name": "ipython",
    "version": 3
   },
   "file_extension": ".py",
   "mimetype": "text/x-python",
   "name": "python",
   "nbconvert_exporter": "python",
   "pygments_lexer": "ipython3",
   "version": "3.7.1"
  }
 },
 "nbformat": 4,
 "nbformat_minor": 2
}
